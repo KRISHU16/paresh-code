{
 "cells": [
  {
   "cell_type": "code",
   "execution_count": 2,
   "id": "c7a7237c-5d0b-40ad-a990-531fcca5c101",
   "metadata": {},
   "outputs": [
    {
     "name": "stdin",
     "output_type": "stream",
     "text": [
      "ENTER A WELCOME MASSAGE :  good morning \n"
     ]
    },
    {
     "name": "stdout",
     "output_type": "stream",
     "text": [
      "hello ,  good morning \n"
     ]
    }
   ],
   "source": [
    "# input a welcome massage and display it\n",
    "massage = input('ENTER A WELCOME MASSAGE : ')\n",
    "print('hello , ', massage)"
   ]
  },
  {
   "cell_type": "code",
   "execution_count": 3,
   "id": "4613a9fe-d159-491a-85b2-1e1aedce8f1d",
   "metadata": {},
   "outputs": [
    {
     "name": "stdin",
     "output_type": "stream",
     "text": [
      "ENTER A NUMBER :  2\n",
      "ENTER A NUMBER :  3\n"
     ]
    },
    {
     "name": "stdout",
     "output_type": "stream",
     "text": [
      "the larger number is  3\n"
     ]
    }
   ],
   "source": [
    "# Input two numbers and display the larger / smaller number\n",
    "n1 = int(input(\"ENTER A NUMBER : \"))\n",
    "n2 = int(input(\"ENTER A NUMBER : \"))\n",
    "if n1>n2:\n",
    "    print(\"the larger number is \", n1)\n",
    "else:\n",
    "    print(\"the larger number is \", n2)"
   ]
  },
  {
   "cell_type": "code",
   "execution_count": 5,
   "id": "edfe982c-8e69-4589-9851-9a1581261432",
   "metadata": {},
   "outputs": [
    {
     "name": "stdin",
     "output_type": "stream",
     "text": [
      "ENTER A NUMBER :  2\n",
      "ENTER A NUMBER :  3\n",
      "ENTER A NUMBER :  4\n"
     ]
    },
    {
     "name": "stdout",
     "output_type": "stream",
     "text": [
      "the largest number is  4\n"
     ]
    }
   ],
   "source": [
    "# Input three numbers and display the largest / smallest number\n",
    "n1 = int(input(\"ENTER A NUMBER : \"))\n",
    "n2 = int(input(\"ENTER A NUMBER : \"))\n",
    "n3 = int(input(\"ENTER A NUMBER : \"))\n",
    "if n1>n2 and n1>n3:\n",
    "    print(\"the largest number is \", n1)\n",
    "elif n2>n1 and n2>n3:\n",
    "    print(\"the largest number is \", n2)\n",
    "else:\n",
    "    print(\"the largest number is \", n3)\n"
   ]
  },
  {
   "cell_type": "code",
   "execution_count": 8,
   "id": "446cbd6e-b263-4bd0-98cc-8981b36a2751",
   "metadata": {},
   "outputs": [
    {
     "name": "stdout",
     "output_type": "stream",
     "text": [
      "*\n",
      "**\n",
      "***\n",
      "****\n",
      "*****\n"
     ]
    }
   ],
   "source": [
    "# Generate the following patterns using nested loops: \n",
    "# Pattern-1\n",
    "for i in range(1, 6):\n",
    "    for j in range(i):\n",
    "        print('*', end='')\n",
    "    print() \n"
   ]
  },
  {
   "cell_type": "code",
   "execution_count": 9,
   "id": "de637526-f54b-4a02-a9c6-4fa34a70b369",
   "metadata": {},
   "outputs": [
    {
     "name": "stdout",
     "output_type": "stream",
     "text": [
      "12345\n",
      "1234\n",
      "123\n",
      "12\n",
      "1\n"
     ]
    }
   ],
   "source": [
    "# Pattern-2\n",
    "for i in range(5, 0, -1):\n",
    "    for j in range(1, i + 1):\n",
    "        print(j, end='')\n",
    "    print() \n"
   ]
  },
  {
   "cell_type": "code",
   "execution_count": 10,
   "id": "a36e9433-94db-4c8d-8b90-c465a7ecb98c",
   "metadata": {},
   "outputs": [
    {
     "name": "stdout",
     "output_type": "stream",
     "text": [
      "A\n",
      "AB\n",
      "ABC\n",
      "ABCD\n",
      "ABCDE\n"
     ]
    }
   ],
   "source": [
    "# Pattern-3\n",
    "for i in range(1, 6):\n",
    "    s = 65\n",
    "    for j in range(0,i):\n",
    "        print(chr(s), end='')\n",
    "        s += 1\n",
    "    print() "
   ]
  },
  {
   "cell_type": "code",
   "execution_count": 11,
   "id": "325029ec-5c03-476e-a05f-1493ebfe0ab1",
   "metadata": {},
   "outputs": [
    {
     "name": "stdin",
     "output_type": "stream",
     "text": [
      "Enter the value of x:  2\n",
      "Enter the value of n:  4\n"
     ]
    },
    {
     "name": "stdout",
     "output_type": "stream",
     "text": [
      "The sum of the series is: 31.0\n"
     ]
    }
   ],
   "source": [
    "x = float(input(\"Enter the value of x: \"))\n",
    "n = int(input(\"Enter the value of n: \"))\n",
    "total_sum = 0\n",
    "for i in range(n + 1):\n",
    "    total_sum += x**i  \n",
    "\n",
    "print(f\"The sum of the series is: {total_sum}\")\n"
   ]
  },
  {
   "cell_type": "code",
   "execution_count": 12,
   "id": "628ed076-d34b-4605-b9b4-e031d026a18e",
   "metadata": {},
   "outputs": [
    {
     "name": "stdin",
     "output_type": "stream",
     "text": [
      "Enter the value of x:  2\n",
      "Enter the value of n:  4\n"
     ]
    },
    {
     "name": "stdout",
     "output_type": "stream",
     "text": [
      "The sum of the series is: 11.0\n"
     ]
    }
   ],
   "source": [
    "x = float(input(\"Enter the value of x: \"))\n",
    "n = int(input(\"Enter the value of n: \"))\n",
    "total_sum = 0\n",
    "for i in range(n + 1):\n",
    "    if i % 2 == 0:\n",
    "        total_sum += x**i\n",
    "    else:\n",
    "        total_sum -= x**i\n",
    "\n",
    "print(f\"The sum of the series is: {total_sum}\")\n"
   ]
  },
  {
   "cell_type": "code",
   "execution_count": 14,
   "id": "8bf5cae2-ae86-4aa5-8b45-5cb3f8f35592",
   "metadata": {},
   "outputs": [
    {
     "name": "stdin",
     "output_type": "stream",
     "text": [
      "Enter the value of x:  2\n",
      "Enter the value of n:  4\n"
     ]
    },
    {
     "name": "stdout",
     "output_type": "stream",
     "text": [
      "The sum of the series is: 10.666666666666666\n"
     ]
    }
   ],
   "source": [
    "x = float(input(\"Enter the value of x: \"))\n",
    "n = int(input(\"Enter the value of n: \"))\n",
    "total_sum = 0\n",
    "for i in range(1, n + 1):\n",
    "    total_sum += (x**i) / i \n",
    "\n",
    "print(f\"The sum of the series is: {total_sum}\")\n"
   ]
  },
  {
   "cell_type": "code",
   "execution_count": 15,
   "id": "7fe3c127-55bb-4776-84c0-892d475ff760",
   "metadata": {},
   "outputs": [
    {
     "name": "stdin",
     "output_type": "stream",
     "text": [
      "Enter the value of x:  2\n",
      "Enter the value of n:  4\n"
     ]
    },
    {
     "name": "stdout",
     "output_type": "stream",
     "text": [
      "The sum of the series is: 6.0\n"
     ]
    }
   ],
   "source": [
    "import math\n",
    "x = float(input(\"Enter the value of x: \"))\n",
    "n = int(input(\"Enter the value of n: \"))\n",
    "total_sum = 0\n",
    "\n",
    "for i in range(1, n + 1):\n",
    "    total_sum += (x**i) / math.factorial(i)\n",
    "\n",
    "print(f\"The sum of the series is: {total_sum}\")\n"
   ]
  },
  {
   "cell_type": "code",
   "execution_count": 21,
   "id": "4c322215-86db-49b5-b91e-faeccb1120f3",
   "metadata": {},
   "outputs": [
    {
     "name": "stdin",
     "output_type": "stream",
     "text": [
      "ENTER A NUMBER :  496\n"
     ]
    },
    {
     "name": "stdout",
     "output_type": "stream",
     "text": [
      "perfect number\n"
     ]
    }
   ],
   "source": [
    "#perfect number \n",
    "n = int(input(\"ENTER A NUMBER : \"))\n",
    "sum = 0\n",
    "for i in range(1,n):\n",
    "    if n%i == 0:\n",
    "          sum+=i\n",
    "if sum == n:\n",
    "    print(\"perfect number\")\n",
    "else:\n",
    "    print(\"not a perfect number\")"
   ]
  },
  {
   "cell_type": "code",
   "execution_count": 22,
   "id": "eb5369b6-ae4f-4f5f-b8b0-5e64840fb122",
   "metadata": {},
   "outputs": [
    {
     "name": "stdin",
     "output_type": "stream",
     "text": [
      "ENTER A NUMBER :  371\n"
     ]
    },
    {
     "name": "stdout",
     "output_type": "stream",
     "text": [
      "yes it is a armstrong number\n"
     ]
    }
   ],
   "source": [
    "#armstrong number \n",
    "n = input(\"ENTER A NUMBER : \")\n",
    "length = len(n)\n",
    "sum = 0\n",
    "n = int(n)\n",
    "nn = n\n",
    "while n>0:\n",
    "    r=n%10\n",
    "    sum+=(r**length)\n",
    "    n//=10\n",
    "if sum == nn:\n",
    "    print(\"yes it is a armstrong number\")\n",
    "else: \n",
    "    print(\"it is not a armstrong number\")"
   ]
  },
  {
   "cell_type": "code",
   "execution_count": 23,
   "id": "6de39a35-d9f2-4313-9817-36ad9b504180",
   "metadata": {},
   "outputs": [
    {
     "name": "stdin",
     "output_type": "stream",
     "text": [
      "ENTER A NUMBER :  1991\n"
     ]
    },
    {
     "name": "stdout",
     "output_type": "stream",
     "text": [
      "yes it is a palindrome number \n"
     ]
    }
   ],
   "source": [
    "#palindrome number \n",
    "n = int(input(\"ENTER A NUMBER : \"))\n",
    "nn = n\n",
    "p = 0 \n",
    "while (n>0):\n",
    "    r = n%10\n",
    "    p = p*10+r\n",
    "    n//= 10\n",
    "if nn==p:\n",
    "    print(\"yes it is a palindrome number \")\n",
    "else:\n",
    "    print(\"it is not a palindrome number \")"
   ]
  },
  {
   "cell_type": "code",
   "execution_count": 25,
   "id": "21a319c5-6767-4e6e-973b-ec7c5f1f3c1d",
   "metadata": {},
   "outputs": [
    {
     "name": "stdin",
     "output_type": "stream",
     "text": [
      "ENTER A NUMEBR :  7\n"
     ]
    },
    {
     "name": "stdout",
     "output_type": "stream",
     "text": [
      "prime number\n"
     ]
    }
   ],
   "source": [
    "#prime or composit\n",
    "n = int(input('ENTER A NUMEBR : '))\n",
    "pm = True\n",
    "for i in range(2,n):\n",
    "    if n%i==0:\n",
    "        pm=False\n",
    "        break\n",
    "if pm:\n",
    "    print(\"prime number\")\n",
    "else:\n",
    "    print(\"composit number\")"
   ]
  },
  {
   "cell_type": "code",
   "execution_count": 26,
   "id": "55b2067e-ede8-462f-b605-36729ef3a8c0",
   "metadata": {},
   "outputs": [
    {
     "name": "stdin",
     "output_type": "stream",
     "text": [
      "ENTER A NUMEBR :  4\n"
     ]
    },
    {
     "name": "stdout",
     "output_type": "stream",
     "text": [
      "composit number\n"
     ]
    }
   ],
   "source": [
    "#prime or composit\n",
    "n = int(input('ENTER A NUMEBR : '))\n",
    "pm = True\n",
    "for i in range(2,n):\n",
    "    if n%i==0:\n",
    "        pm=False\n",
    "        break\n",
    "if pm:\n",
    "    print(\"prime number\")\n",
    "else:\n",
    "    print(\"composit number\")"
   ]
  },
  {
   "cell_type": "code",
   "execution_count": 27,
   "id": "649c997e-650e-4ef0-ba09-d68dfb360825",
   "metadata": {},
   "outputs": [
    {
     "name": "stdin",
     "output_type": "stream",
     "text": [
      "ENTER A NUMBER :  7\n"
     ]
    },
    {
     "name": "stdout",
     "output_type": "stream",
     "text": [
      "0 , 1 , 1 , 2 , 3 , 5 , 8 , 13 , 21 , "
     ]
    }
   ],
   "source": [
    "#fibonacci series\n",
    "n = int(input('ENTER A NUMBER : '))\n",
    "x,y = 0,1\n",
    "print(x,',',y,end=\" , \")\n",
    "for i in range(n):\n",
    "    z=x+y\n",
    "    x=y\n",
    "    y=z\n",
    "    print(z,end=\" , \")"
   ]
  },
  {
   "cell_type": "code",
   "execution_count": 28,
   "id": "3a64272d-63a2-4bd3-ba20-17c402dbcc2e",
   "metadata": {},
   "outputs": [
    {
     "name": "stdin",
     "output_type": "stream",
     "text": [
      "ENTER N1 :  190\n",
      "ENTER N2 :  24\n"
     ]
    },
    {
     "name": "stdout",
     "output_type": "stream",
     "text": [
      "GCD 2\n"
     ]
    }
   ],
   "source": [
    "#greatest common divisor\n",
    "a = int(input(\"ENTER N1 : \"))\n",
    "b = int(input(\"ENTER N2 : \"))\n",
    "while(b!=0):\n",
    "    z = a%b\n",
    "    a=b\n",
    "    b=z\n",
    "print(\"GCD\",a)"
   ]
  },
  {
   "cell_type": "code",
   "execution_count": 31,
   "id": "deca1c92-432e-4e08-95c4-e5136b84d1dd",
   "metadata": {},
   "outputs": [
    {
     "name": "stdin",
     "output_type": "stream",
     "text": [
      "ENTER N1 :  5\n",
      "ENTER N2 :  25\n"
     ]
    },
    {
     "name": "stdout",
     "output_type": "stream",
     "text": [
      "LCM 25\n"
     ]
    }
   ],
   "source": [
    "#LCM\n",
    "a = int(input(\"ENTER N1 : \"))\n",
    "b = int(input(\"ENTER N2 : \"))\n",
    "for i in range(11,a*b+1):\n",
    "    if i%a==0 and i%b==0:\n",
    "        print(\"LCM\",i)\n",
    "        break"
   ]
  },
  {
   "cell_type": "code",
   "execution_count": 32,
   "id": "c03681dc-d82e-409e-861d-abe388852aa2",
   "metadata": {},
   "outputs": [
    {
     "name": "stdin",
     "output_type": "stream",
     "text": [
      "ENTER A STRING :  ARORA\n"
     ]
    },
    {
     "name": "stdout",
     "output_type": "stream",
     "text": [
      "palindrome\n"
     ]
    }
   ],
   "source": [
    "#palindrome\n",
    "s = input('ENTER A STRING : ')\n",
    "if s==s[::-1]:\n",
    "    print(\"palindrome\")\n",
    "else:\n",
    "    print(\"not palindrome\")"
   ]
  },
  {
   "cell_type": "code",
   "execution_count": 37,
   "id": "697f1f86-2f8d-4ad0-8d6d-f98fe77ad4df",
   "metadata": {},
   "outputs": [
    {
     "name": "stdin",
     "output_type": "stream",
     "text": [
      "ENTER THE STRING :  paresh\n"
     ]
    },
    {
     "name": "stdout",
     "output_type": "stream",
     "text": [
      "P A R E S H "
     ]
    }
   ],
   "source": [
    "string = input('ENTER THE STRING : ')\n",
    "for i in string:\n",
    "    if i.isalpha():\n",
    "        n=ord(i)\n",
    "        if n>=65 and n<=90:\n",
    "            n+=32\n",
    "        else:\n",
    "            n-=32\n",
    "            c=chr(n)\n",
    "        print(c,end=\" \")"
   ]
  },
  {
   "cell_type": "code",
   "execution_count": 43,
   "id": "3d272a8c-22d8-4bfe-a363-3d1ff21ee33f",
   "metadata": {},
   "outputs": [
    {
     "name": "stdin",
     "output_type": "stream",
     "text": [
      "Enter a list of numbers separated by spaces:  20 30 40 50 60 70 80\n"
     ]
    },
    {
     "name": "stdout",
     "output_type": "stream",
     "text": [
      "List after swapping elements at even and odd locations:\n",
      "[30, 20, 50, 40, 70, 60, 80]\n"
     ]
    }
   ],
   "source": [
    "numbers = input(\"Enter a list of numbers separated by spaces: \").split()\n",
    "numbers = [int(num) for num in numbers]  \n",
    "\n",
    "for i in range(0, len(numbers) - 1, 2):\n",
    "    # Swap elements at indices i and i+1\n",
    "    numbers[i], numbers[i + 1] = numbers[i + 1], numbers[i]\n",
    "\n",
    "print(\"List after swapping elements at even and odd locations:\")\n",
    "print(numbers)"
   ]
  },
  {
   "cell_type": "code",
   "execution_count": 45,
   "id": "85f83152-a748-498a-888a-3bcded1f0e29",
   "metadata": {},
   "outputs": [
    {
     "name": "stdin",
     "output_type": "stream",
     "text": [
      "Enter a list of elements separated by spaces:  banana apple pineapple\n",
      "Enter the element to search for:  apple\n"
     ]
    },
    {
     "name": "stdout",
     "output_type": "stream",
     "text": [
      "apple is found in the list.\n"
     ]
    }
   ],
   "source": [
    "elements = input(\"Enter a list of elements separated by spaces: \").split()\n",
    "search_element = input(\"Enter the element to search for: \")\n",
    "\n",
    "if search_element in elements:\n",
    "    print(f\"{search_element} is found in the list.\")\n",
    "else:\n",
    "    print(f\"{search_element} is not found in the list.\")\n"
   ]
  },
  {
   "cell_type": "code",
   "execution_count": 48,
   "id": "738563b6-72d2-4c77-b2ee-83bc03df24e5",
   "metadata": {},
   "outputs": [
    {
     "name": "stdin",
     "output_type": "stream",
     "text": [
      "Enter the number of students:  4\n",
      "Enter roll number:  1\n",
      "Enter name:  paresh\n",
      "Enter marks:  95\n",
      "Enter roll number:  2\n",
      "Enter name:  ram\n",
      "Enter marks:  60\n",
      "Enter roll number:  3\n",
      "Enter name:  manish \n",
      "Enter marks:  74\n",
      "Enter roll number:  4\n",
      "Enter name:  ansh\n",
      "Enter marks:  76\n"
     ]
    },
    {
     "name": "stdout",
     "output_type": "stream",
     "text": [
      "Students with marks above 75:\n",
      "paresh\n",
      "ansh\n"
     ]
    }
   ],
   "source": [
    "# Input the number of students\n",
    "n = int(input(\"Enter the number of students: \"))\n",
    "\n",
    "# Initialize an empty dictionary\n",
    "students = {}\n",
    "\n",
    "# Input roll number, name, and marks for each student\n",
    "for _ in range(n):\n",
    "    roll_number = input(\"Enter roll number: \")\n",
    "    name = input(\"Enter name: \")\n",
    "    marks = float(input(\"Enter marks: \"))\n",
    "    \n",
    "    # Store in dictionary\n",
    "    students[roll_number] = {'name': name, 'marks': marks}\n",
    "\n",
    "# Display names of students with marks above 75\n",
    "print(\"Students with marks above 75:\")\n",
    "for student in students.values():\n",
    "    if student['marks'] > 75:\n",
    "        print(student['name'])\n"
   ]
  },
  {
   "cell_type": "code",
   "execution_count": null,
   "id": "4db5f08b-6bee-4320-87ec-26bb16b3c849",
   "metadata": {},
   "outputs": [],
   "source": []
  }
 ],
 "metadata": {
  "kernelspec": {
   "display_name": "Python 3 (ipykernel)",
   "language": "python",
   "name": "python3"
  },
  "language_info": {
   "codemirror_mode": {
    "name": "ipython",
    "version": 3
   },
   "file_extension": ".py",
   "mimetype": "text/x-python",
   "name": "python",
   "nbconvert_exporter": "python",
   "pygments_lexer": "ipython3",
   "version": "3.12.5"
  }
 },
 "nbformat": 4,
 "nbformat_minor": 5
}
